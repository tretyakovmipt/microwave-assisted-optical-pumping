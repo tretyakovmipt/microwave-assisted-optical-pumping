{
 "cells": [
  {
   "cell_type": "code",
   "execution_count": 2,
   "outputs": [],
   "source": [
    "import matplotlib.pyplot as plt\n",
    "import numpy as np\n",
    "from qutip import *"
   ],
   "metadata": {
    "collapsed": false
   }
  },
  {
   "cell_type": "code",
   "execution_count": 3,
   "outputs": [],
   "source": [
    "# Parameters\n",
    "gOP = 2 * np.pi # Optical pumping rate\n",
    "W_R = 0.01 * gOP # Coupling strength in terms of the Rabi frequency\n",
    "w_L = gOP * 2e2 # Etalon Larmor frequency\n",
    "gL = 2 * w_L  # Cavity linewidth\n",
    "gT = 1.0 * gOP # Thermal relaxation rate\n",
    "delta = np.linspace(-6*w_L,6*w_L,320)# Microwave detuning"
   ],
   "metadata": {
    "collapsed": false
   }
  },
  {
   "cell_type": "code",
   "execution_count": 4,
   "outputs": [],
   "source": [
    "# Initialize the quantum system\n",
    "\n",
    "states = []  # list with the basis states\n",
    "for i in np.arange(8):\n",
    "    states.append(basis(8, i))\n",
    "\n",
    "psi1_1 = states[0] # (1,-1) ground state\n",
    "psi10 = states[1] # (1,0) ground state\n",
    "psi11 = states[2] # (1,+1)ground state\n",
    "psi2_2 = states[3] # (2,-2)ground state\n",
    "psi2_1 = states[4] # (2,-1)ground state\n",
    "psi20 = states[5] # (2,0)ground state\n",
    "psi21 = states[6] # (2,+1)ground state\n",
    "psi22 = states[7] # (2,+2)ground state\n",
    "\n",
    "# Projector operators onto the basis states\n",
    "P = []\n",
    "for psi in states:\n",
    "    P.append(ket2dm(psi))"
   ],
   "metadata": {
    "collapsed": false
   }
  },
  {
   "cell_type": "markdown",
   "source": [
    "# Relaxation\n",
    "\n",
    "We model the optical pumping as relaxation from F=2 to F=1 at the same rate for all sublevels. The process is described by the following collapse operator:\n",
    "$$    \\hat{L}_{\\rm OP}(m_{\\rm F},\\widetilde{m}_{\\rm F})=\\sqrt{\\Gamma_{\\rm OP}}|F=1,m_{\\rm F}\\rangle\\langle F=2,\\widetilde{m}_{\\rm F}|. $$\n",
    "\n",
    "For the thermal relaxation, we assume that each Zeeman sublevel mixes with every other sublevel at the same rate:\n",
    "$$     \\hat{L}_{\\rm}=\\sqrt{\\Gamma_{\\rm th}}|i\\rangle \\langle j|,$$\n",
    "\n"
   ],
   "metadata": {
    "collapsed": false
   }
  },
  {
   "cell_type": "code",
   "execution_count": 5,
   "outputs": [],
   "source": [
    "# Collapse operators\n",
    "\n",
    "c_ops = [] # List with collapse operators\n",
    "\n",
    "# Optical pumping relaxation\n",
    "for psi1 in states[0:3]:\n",
    "    for psi2 in states[3:]:\n",
    "        c_ops.append(np.sqrt(gOP) * psi1 * psi2.dag())\n",
    "\n",
    "# Thermal relaxation between the Zeeman states\n",
    "for i in np.arange(8):\n",
    "    for j in np.arange(8):\n",
    "        if i != j:\n",
    "            c_ops.append(np.sqrt(gT) * states[i] * states[j].dag())"
   ],
   "metadata": {
    "collapsed": false
   }
  },
  {
   "cell_type": "markdown",
   "source": [
    "# Hmiltonian\n",
    "\n",
    "The Hamiltonian is given in the rotating-wave approximation"
   ],
   "metadata": {
    "collapsed": false
   }
  },
  {
   "cell_type": "markdown",
   "source": [
    "## Diagonal part"
   ],
   "metadata": {
    "collapsed": false
   }
  },
  {
   "cell_type": "markdown",
   "source": [
    "The diagonal part of the Hamiltonian is given by\n",
    "$$\\hat{H}_0 = \\hbar\\sum_{m_F}\\left(\\dfrac{\\delta}{2}-m_{\\rm F}\\omega_{\\rm L}\\right)| F=1,m_{\\rm F}\\rangle\\langle F=1,m_{\\rm F}|+\\hbar\\sum_{\\widetilde{m}_{\\rm F}}\\left(\\widetilde{m}_{\\rm F}\\omega_{\\rm L}-\\dfrac{\\delta}{2}\\right)|F=2,\\widetilde{m}_{\\rm F}\\rangle\\langle F=2,\\widetilde{m}_{\\rm F}|,$$\n",
    "\n",
    "where $\\delta$ is the microave detuning from the clock transition, and $\\omega_L$ is the Larmor frequency."
   ],
   "metadata": {
    "collapsed": false
   }
  },
  {
   "cell_type": "code",
   "execution_count": 6,
   "outputs": [],
   "source": [
    "def H_d(d, wL):\n",
    "    \"\"\"Diagonal part of the Hamiltonian as a function of detuning d form the clock transition and the Larmor frequency\"\"\"\n",
    "    H = 0*qeye(len(states))\n",
    "    H += (wL+0.5*d)*P[0]\n",
    "    H += 0.5*d*P[1]\n",
    "    H += (-wL+0.5*d)*P[2]\n",
    "    H += -(0.5*d+2*wL)*P[3]\n",
    "    H += -(0.5*d+wL)*P[4]\n",
    "    H += -0.5*d*P[5]\n",
    "    H += -(0.5*d-wL)*P[6]\n",
    "    H += -(0.5*d-2*wL)*P[7]\n",
    "    return H"
   ],
   "metadata": {
    "collapsed": false
   }
  },
  {
   "cell_type": "markdown",
   "source": [
    "## Interaction Hamiltonian (off-diagonal)\n",
    "\n",
    "The interacion Hamiltonian is given by\n",
    "\n",
    "$$\\hat{V}=\\dfrac{\\hbar}{2}\\sum_{\\widetilde{m}_{\\rm F}}\\sum_{m_{\\rm F}}\\Omega_{m_{\\rm F},\\widetilde{m}_{\\rm F}}|F=1,m_{\\rm F}\\rangle\\langle F=2,\\widetilde{m}_{\\rm F}|+ {\\rm h.c.}.$$\n",
    "\n",
    "For the $\\pi$-transitions, the coupling strength is given by\n",
    "$$\\Omega_{m_{\\rm F}m_{\\rm F}}=\\Omega_{0}\\cos\\theta S_{m_{\\rm F}m_{\\rm F}}\\sqrt{L(\\delta_{m_{\\rm F}m_{\\rm F}})}$$,\n",
    "where $\\Omega_0$ is the full Rabi frequency,  $\\theta$ is the angle between the microwave field and the DC field, S is the transition strength ('Sl' in the code), and $L$ is the cavity line profile.\n",
    "\n",
    "For the $\\sigma$-transitions, the expression is the same, except $\\cos\\theta$ is replaced with $\\sin\\theta$.\n"
   ],
   "metadata": {
    "collapsed": false
   }
  },
  {
   "cell_type": "code",
   "execution_count": 7,
   "outputs": [],
   "source": [
    "def L(f, g):\n",
    "    \"\"\"Cavity line-width\"\"\"\n",
    "    if g == 0:\n",
    "        return 1 # For simplicity, I set this condition fot the case when there is no cavity\n",
    "    return g**2/(g**2+f**2)\n",
    "\n",
    "def So(W_R, theta, wL):\n",
    "    \"\"\"Coupling strength for sigma transitions with cavity\"\"\"\n",
    "    transition_strength = np.array([0.5*np.sqrt(3),  0.25*np.sqrt(2), 0.25*np.sqrt(6), 0.25*np.sqrt(6), 0.25*np.sqrt(2),  0.5*np.sqrt(3)])\n",
    "    if wL == 0:\n",
    "        return 0 # To avoid double counting in the degenerate case\n",
    "    return transition_strength * W_R * np.sin(theta) * np.sqrt(L(np.array([-3,-1,-1,1,1,3])*wL,gL))\n",
    "\n",
    "def Sl(W_R, theta, wL):\n",
    "    \"\"\"Coupling strength for pi transitions with cavity\"\"\"\n",
    "    transition_strength = np.array([0.5*np.sqrt(3), 1, 0.5*np.sqrt(3)])\n",
    "    return transition_strength * W_R * np.cos(theta) * np.sqrt(L(np.array([-2, 0, 2])*wL,gL))\n",
    "\n",
    "def V(W_R, theta, wL):\n",
    "    \"\"\"Interaction part of the Hamiltonian as a function of the Larmor frequency\"\"\"\n",
    "    V_l = 0*qeye(len(states))\n",
    "    V_o = 0*qeye(len(states))\n",
    "\n",
    "    W_par = W_R * np.cos(theta)\n",
    "    W_ort = W_R * np.sin(theta)\n",
    "\n",
    "    for i in range(3):\n",
    "        V_l += 0.5*Sl(W_R, theta, wL)[i]*(states[i]*states[i+4].dag())+0.5*Sl(W_R, theta, wL)[i]*(states[i]*states[i+4].dag()).dag() # Pi transition\n",
    "        V_o += 0.5*So(W_R, theta, wL)[2*i]*(states[i]*states[i+3].dag())+0.5*So(W_R, theta, wL)[2*i]*(states[i]*states[i+3].dag()).dag() # Sigma- transitions\n",
    "        V_o += 0.5*So(W_R, theta, wL)[2*i+1]*(states[i]*states[i+5].dag())+0.5*So(W_R, theta, wL)[2*i+1]*(states[i]*states[i+5].dag()).dag() # Sigma+ transition\n",
    "    return V_o+V_l"
   ],
   "metadata": {
    "collapsed": false
   }
  },
  {
   "cell_type": "markdown",
   "source": [
    "## Total Hamiltonian"
   ],
   "metadata": {
    "collapsed": false
   }
  },
  {
   "cell_type": "code",
   "execution_count": 8,
   "outputs": [],
   "source": [
    "def H(d, W_R, theta, wL):\n",
    "    return H_d(d, wL) + V(W_R, theta, wL)"
   ],
   "metadata": {
    "collapsed": false
   }
  },
  {
   "cell_type": "markdown",
   "source": [
    "# Finding steady state\n",
    "\n",
    "We find the steady-state population by solving the Lindblad equation\n",
    "$$    \\dfrac{d}{dt}\\hat{\\rho}=-\\dfrac{i}{\\hbar}\\left[\\hat{H},\\hat{\\rho}\\right]+\\dfrac{1}{2}\\sum_{n} \\left(2\\hat{L}_n\\hat{\\rho} \\hat{L}_n^{\\dagger}-\\hat{\\rho}\\hat{L}_n^{\\dagger}\\hat{L}_n-\\hat{L}_n^{\\dagger}\\hat{L}_n\\hat{\\rho}\\right).$$"
   ],
   "metadata": {
    "collapsed": false
   }
  },
  {
   "cell_type": "code",
   "execution_count": 9,
   "outputs": [],
   "source": [
    "theta = np.pi * 0.5\n",
    "\n",
    "ss_1 = [] # Steady-state population in F=1, mF=-1\n",
    "ss0 = [] # Steady-state population in F=1, mF=0\n",
    "ss1 = [] # Steady-state population in F=1, mF=1\n",
    "for d in delta:\n",
    "    ss = steadystate(H(d, W_R, theta, w_L), c_ops, drop_tol=1e-10) #steady state\n",
    "    ss_1.append(expect(P[0], ss)) # Steady-state populations of psi1\n",
    "    ss0.append(expect(P[1], ss)) # Steady-state populations of psi2\n",
    "    ss1.append(expect(P[2], ss)) # Steady-state populations of psi3\n",
    "\n",
    "# Convert to arrays\n",
    "ss_1, ss0, ss1 = map(np.array, (ss_1, ss0, ss1))\n",
    "rho = ss_1 + ss0 + ss1 # Total population of the F=1 ground state"
   ],
   "metadata": {
    "collapsed": false
   }
  },
  {
   "cell_type": "code",
   "execution_count": 10,
   "outputs": [
    {
     "data": {
      "text/plain": "Text(0, 0.5, 'Population')"
     },
     "execution_count": 10,
     "metadata": {},
     "output_type": "execute_result"
    },
    {
     "data": {
      "text/plain": "<Figure size 432x288 with 1 Axes>",
      "image/png": "[encoded data removed]"
     },
     "metadata": {
      "needs_background": "light"
     },
     "output_type": "display_data"
    }
   ],
   "source": [
    "fig, ax = plt.subplots()\n",
    "ax.plot(delta/w_L, rho)\n",
    "ax.set_xlabel(r'$\\Delta_{\\mu}/\\omega_{L}$',fontsize=12)\n",
    "ax.set_ylabel('Population',fontsize=12)"
   ],
   "metadata": {
    "collapsed": false
   }
  },
  {
   "cell_type": "markdown",
   "source": [
    "# Calculate absorption coefficient"
   ],
   "metadata": {
    "collapsed": false
   }
  },
  {
   "cell_type": "code",
   "execution_count": 11,
   "outputs": [],
   "source": [
    "# Fractions of atoms in the velocity classes resonant with different transitions\n",
    "c = 2.99792458e8 # Speed of light in m/s\n",
    "f = 384.230484468562e12-302.073888e6 # Optical transition frequency in Hz\n",
    "kB = 1.380650324e-23 # Boltzmann constant in  J/K\n",
    "T = 300 # Vapor temperature in K\n",
    "m = 87*1.6605387313e-27 # 87Rb mass in kg\n",
    "v = np.sqrt(2*kB*T/m) # Most probable thermal speed in m/s\n",
    "\n",
    "N0 = 1. # The ensemble fraction in  F'=0\n",
    "N1 = N0 * np.exp(-((72.2e6*c)/(f*v))**2)#ensemble fraction in F'=1\n",
    "N2 = N0 * np.exp(-((72.2e6+156.9e6)*c/(f*v))**2)#ensemble fraction in F'=2\n",
    "\n",
    "# Total sigma+ absorption as a function of sublevel populations\n",
    "def Asp(P_1, P0, P1):\n",
    "    A = P_1*(N0*1./6+N1*5./24+N2*1./24)+P0*(N0*0+N1*5./24+N2/8)+P1*N2/4\n",
    "    return A\n",
    "\n",
    "# Same for pi\n",
    "def Api(P_1, P0, P1):\n",
    "    A = P_1*(N0*0+N1*5./24+N2*1./8)+P0*(N0/6+N1*0+N2/6)+P1*(N0*0+N1*5./24+N2*1./8)\n",
    "    return A\n",
    "\n",
    "# Same for sigma-\n",
    "def Asm(P_1, P0, P1):\n",
    "    A=P1*(N0*1./6+N1*5./24+N2*1./24)+P0*(N0*0+N1*5./24+N2/8)+P_1*N2/4\n",
    "    return A\n",
    "\n",
    "# Total absorption for light split between polarization components as:  π : 0.5,  σ+ :0.25,  σ− :0.25\n",
    "def A(P_1, P0, P1):\n",
    "    return 0.5*Api(P_1,P0,P1)+0.25*Asp(P_1,P0,P1)+0.25*Asm(P_1,P0,P1)"
   ],
   "metadata": {
    "collapsed": false
   }
  },
  {
   "cell_type": "code",
   "execution_count": 12,
   "outputs": [
    {
     "data": {
      "text/plain": "Text(0.5, 1.0, '$0.25\\\\sigma^{+}$')"
     },
     "execution_count": 12,
     "metadata": {},
     "output_type": "execute_result"
    },
    {
     "data": {
      "text/plain": "<Figure size 432x288 with 1 Axes>",
      "image/png": "[encoded data removed]"
     },
     "metadata": {
      "needs_background": "light"
     },
     "output_type": "display_data"
    }
   ],
   "source": [
    "# Plot transmission for sigma+ polarization\n",
    "alpha_p = Asp(ss_1,ss0,ss1)\n",
    "Tsigma = 1-alpha_p\n",
    "fig, ax = plt.subplots()\n",
    "ax.plot(delta/w_L, Tsigma,label=r'$-1$')\n",
    "ax.set_xlabel(r'$\\delta/w_L$',fontsize=12)\n",
    "ax.set_ylabel(r'Transmission',fontsize=12)\n",
    "ax.set_title(r'$0.25\\sigma^{+}$')"
   ],
   "metadata": {
    "collapsed": false
   }
  },
  {
   "cell_type": "code",
   "execution_count": 13,
   "outputs": [
    {
     "data": {
      "text/plain": "Text(0, 0.5, 'Transmission')"
     },
     "execution_count": 13,
     "metadata": {},
     "output_type": "execute_result"
    },
    {
     "data": {
      "text/plain": "<Figure size 432x288 with 1 Axes>",
      "image/png": "[encoded data removed]"
     },
     "metadata": {
      "needs_background": "light"
     },
     "output_type": "display_data"
    }
   ],
   "source": [
    "# Plot transmission for the mixed polarization\n",
    "alpha_mixed = A(ss_1,ss0,ss1)\n",
    "Tmixed = 1-alpha_mixed\n",
    "fig, ax = plt.subplots()\n",
    "ax.plot(delta/w_L,Tmixed,label=r'$-1$')\n",
    "ax.set_xlabel(r'$\\delta/w_L$',fontsize=12)\n",
    "ax.set_ylabel(r'Transmission',fontsize=12)"
   ],
   "metadata": {
    "collapsed": false
   }
  }
 ],
 "metadata": {
  "kernelspec": {
   "display_name": "Python 3",
   "language": "python",
   "name": "python3"
  },
  "language_info": {
   "codemirror_mode": {
    "name": "ipython",
    "version": 2
   },
   "file_extension": ".py",
   "mimetype": "text/x-python",
   "name": "python",
   "nbconvert_exporter": "python",
   "pygments_lexer": "ipython2",
   "version": "2.7.6"
  }
 },
 "nbformat": 4,
 "nbformat_minor": 0
}
