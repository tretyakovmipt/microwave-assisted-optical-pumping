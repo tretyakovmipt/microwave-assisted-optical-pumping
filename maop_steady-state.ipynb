{
 "cells": [
  {
   "cell_type": "code",
   "execution_count": 18,
   "outputs": [],
   "source": [
    "import numpy as np\n",
    "import matplotlib.pyplot as plt\n",
    "import pandas as pd\n",
    "from qutip import*"
   ],
   "metadata": {
    "collapsed": false
   }
  },
  {
   "cell_type": "code",
   "execution_count": 19,
   "outputs": [],
   "source": [
    "'''Initiate parameters'''\n",
    "gOP=1*2*np.pi   #Optical pumping rate\n",
    "W=0.01*gOP          # coupling strength in terms of the Rabi frequency\n",
    "w_L=1*gOP*2e2         #ethalon Larmor frequency\n",
    "gL=2*w_L          #cavity line width\n",
    "gT=1.0*gOP          # thermal relaxation rate\n",
    "delta=np.linspace(-4*w_L,4*w_L,320)# microwave detuning"
   ],
   "metadata": {
    "collapsed": false
   }
  },
  {
   "cell_type": "code",
   "execution_count": 20,
   "outputs": [],
   "source": [
    "# Initialize quantum system\n",
    "\n",
    "states = []  # list with the basis states\n",
    "for i in np.arange(8):\n",
    "    states.append(basis(8, i))\n",
    "\n",
    "psi1_1 = states[0]  #(1,-1) ground state\n",
    "psi10 = states[1]  #(1,0) ground state\n",
    "psi11 = states[2]  #(1,+1)ground state\n",
    "psi2_2 = states[3]  #(2,-2)ground state\n",
    "psi2_1 = states[4]  #(2,-1)ground state\n",
    "psi20 = states[5]  #(2,0)ground state\n",
    "psi21 = states[6]  #(2,+1)ground state\n",
    "psi22 = states[7]  #(2,+2)ground state\n",
    "\n",
    "'''projectors onto the basis states'''\n",
    "P = []\n",
    "for psi in states:\n",
    "    P.append(ket2dm(psi))"
   ],
   "metadata": {
    "collapsed": false
   }
  },
  {
   "cell_type": "code",
   "execution_count": 21,
   "outputs": [],
   "source": [
    "# Collapse operators\n",
    "\n",
    "c_ops = []  #list with collapse operators\n",
    "\n",
    "'''Optical pumping relaxation'''\n",
    "for psi1 in states[0:3]:\n",
    "    for psi2 in states[3:]:\n",
    "        c_ops.append(np.sqrt(gOP) * psi1 * psi2.dag())\n",
    "\n",
    "'''Thermal relaxation between the Zeeman states'''\n",
    "for i in np.arange(8):\n",
    "    for j in np.arange(8):\n",
    "        if i != j:\n",
    "            c_ops.append(np.sqrt(gT) * states[i] * states[j].dag())"
   ],
   "metadata": {
    "collapsed": false
   }
  },
  {
   "cell_type": "code",
   "execution_count": 22,
   "outputs": [],
   "source": [
    "# Hamiltonian\n",
    "'''Interaction Hamiltonian'''\n",
    "\n",
    "S_o=W*np.array([0.5*np.sqrt(3),  0.25*np.sqrt(2), 0.25*np.sqrt(6), 0.25*np.sqrt(6), 0.25*np.sqrt(2),  0.5*np.sqrt(3)])# Rabi frequencies for orthogonal transition\n",
    "S_l=W*np.array([0.5*np.sqrt(3), 1, 0.5*np.sqrt(3)])# Rabi frequencies for longitudinal transition\n",
    "\n",
    "#add cavity line-width\n",
    "def L(f,g):\n",
    "    if g==0:\n",
    "        return 1\n",
    "    return g**2/(g**2+f**2)\n",
    "\n",
    "def Sl(W_par,W_ort):\n",
    "    wL=np.sqrt(W_par**2+W_ort**2)\n",
    "    if wL==0:\n",
    "        return S_l*np.sqrt(L(np.array([-2,0.0,2])*wL,gL))\n",
    "    return S_l*W_par/wL*np.sqrt(L(np.array([-2,0.0,2])*wL,gL))\n",
    "\n",
    "def So(W_par,W_ort):\n",
    "    wL=np.sqrt(W_par**2+W_ort**2)\n",
    "    if wL==0:\n",
    "        return 0*S_o*np.sqrt(L(np.array([-3,-1,-1,1,1,3])*wL,gL))\n",
    "    return S_o*W_ort/wL*np.sqrt(L(np.array([-3,-1,-1,1,1,3])*wL,gL))\n",
    "\n",
    "\n",
    "\n",
    "\"interaction part of the Hamiltonian as a function of Larmor frequency\"\n",
    "def V(W_par,W_ort):\n",
    "    V_l=0*qeye(len(states))\n",
    "    V_o=0*qeye(len(states))\n",
    "\n",
    "    for i in range(3):\n",
    "        V_l+=0.5*Sl(W_par,W_ort)[i]*(states[i]*states[i+4].dag())+0.5*Sl(W_par,W_ort)[i]*(states[i]*states[i+4].dag()).dag()#pi transition\n",
    "        V_o+=0.5*So(W_par,W_ort)[2*i]*(states[i]*states[i+3].dag())+0.5*So(W_par,W_ort)[2*i]*(states[i]*states[i+3].dag()).dag()#sigma-\n",
    "        V_o+=0.5*So(W_par,W_ort)[2*i+1]*(states[i]*states[i+5].dag())+0.5*So(W_par,W_ort)[2*i+1]*(states[i]*states[i+5].dag()).dag()#sigma+\n",
    "    return V_o+V_l\n",
    "\n",
    "\n",
    "'''Diagonal part of the Hamiltonian as a function of detuning d form the clock transition and the Larmor frequency'''\n",
    "def H_d(d, wL):\n",
    "    H=0*qeye(len(states))\n",
    "    H+=(wL+0.5*d)*P[0]\n",
    "    H+=0.5*d*P[1]\n",
    "    H+=(-wL+0.5*d)*P[2]\n",
    "    H+=-(0.5*d+2*wL)*P[3]\n",
    "    H+=-(0.5*d+wL)*P[4]\n",
    "    H+=-0.5*d*P[5]\n",
    "    H+=-(0.5*d-wL)*P[6]\n",
    "    H+=-(0.5*d-2*wL)*P[7]\n",
    "    return H\n",
    "\n",
    "'''Total Hamiltonian'''\n",
    "def H(d,W_par,W_ort):\n",
    "    wL=np.sqrt(W_par**2+W_ort**2)\n",
    "    H=H_d(d,wL)+V(W_par,W_ort)\n",
    "    return H"
   ],
   "metadata": {
    "collapsed": false
   }
  },
  {
   "cell_type": "code",
   "execution_count": 26,
   "outputs": [],
   "source": [
    "# Find the steady state\n",
    "\n",
    "W_par = 0 # Parallel component of the microwave field in terms of Rabi frequency\n",
    "W_ort = 1 # Orthogonal component of the microwave field in terms of Rabi frequency\n",
    "\n",
    "ss_1=[] # Steady-state population in F=1, mF=-1\n",
    "ss0=[] # Steady-state population in F=1, mF=0\n",
    "ss1=[] # Steady-state population in F=1, mF=1\n",
    "for d in delta:\n",
    "    ss=steadystate(H(d,W_par*w_L,W_ort*w_L), c_ops, drop_tol=1e-10) #steady state\n",
    "    ss_1.append(expect(P[0],ss))#steady-state populations of psi1\n",
    "    ss0.append(expect(P[1],ss))#steady-state populations of psi2\n",
    "    ss1.append(expect(P[2],ss))#steady-state populations of psi3\n",
    "##convert to arrays\n",
    "ss_1=np.array(ss_1)\n",
    "ss0=np.array(ss0)\n",
    "ss1=np.array(ss1)\n",
    "rho=ss_1+ss0+ss1\n"
   ],
   "metadata": {
    "collapsed": false
   }
  },
  {
   "cell_type": "code",
   "execution_count": 27,
   "outputs": [
    {
     "name": "stderr",
     "output_type": "stream",
     "text": [
      "WARNING:matplotlib.legend:No artists with labels found to put in legend.  Note that artists whose label start with an underscore are ignored when legend() is called with no argument.\n"
     ]
    },
    {
     "data": {
      "text/plain": "<matplotlib.legend.Legend at 0x7f931ecbd460>"
     },
     "execution_count": 27,
     "metadata": {},
     "output_type": "execute_result"
    },
    {
     "data": {
      "text/plain": "<Figure size 640x480 with 1 Axes>",
      "image/png": "[encoded data removed]"
     },
     "metadata": {},
     "output_type": "display_data"
    }
   ],
   "source": [
    "fig, ax = plt.subplots()\n",
    "ax.plot(delta/w_L, rho)\n",
    "ax.set_xlabel(r'$\\Delta_{\\mu}/\\omega_{L}$',fontsize=12)\n",
    "ax.set_ylabel('Signal',fontsize=12)\n",
    "ax.legend(loc=0)"
   ],
   "metadata": {
    "collapsed": false
   }
  }
 ],
 "metadata": {
  "kernelspec": {
   "display_name": "Python 3",
   "language": "python",
   "name": "python3"
  },
  "language_info": {
   "codemirror_mode": {
    "name": "ipython",
    "version": 2
   },
   "file_extension": ".py",
   "mimetype": "text/x-python",
   "name": "python",
   "nbconvert_exporter": "python",
   "pygments_lexer": "ipython2",
   "version": "2.7.6"
  }
 },
 "nbformat": 4,
 "nbformat_minor": 0
}
